{
 "cells": [
  {
   "cell_type": "code",
   "execution_count": 4,
   "metadata": {},
   "outputs": [],
   "source": [
    "from pyspark.sql import SparkSession\n",
    "from datetime import datetime, date\n",
    "import pandas as pd\n",
    "from pyspark.sql import Row,DataFrameWriter\n",
    "from pyspark.sql.functions import lit, col, regexp_replace\n",
    "import os\n",
    "import glob"
   ]
  },
  {
   "cell_type": "code",
   "execution_count": 15,
   "metadata": {},
   "outputs": [],
   "source": [
    "#   SEÇÃO DO PYSPARK\n",
    "spark = SparkSession.builder\\\n",
    "    .master('local[*]')\\\n",
    "    .appName('animescsv')\\\n",
    "    .getOrCreate()"
   ]
  },
  {
   "cell_type": "code",
   "execution_count": 5,
   "metadata": {},
   "outputs": [],
   "source": [
    "# FUNÇÃO DE EXPORTAÇÃO DOS REGISTROS PARA BASE DE DADOS SQL\n",
    "def exportar_para_oracle(dataframe,nome_tabela,password):\n",
    "    dataframe.write.format(\"jdbc\") \\\n",
    "    .option(\"url\", \"jdbc:oracle:thin:@//localhost:1521/xe\") \\\n",
    "    .option(\"dbtable\", nome_tabela) \\\n",
    "    .option(\"user\", \"system\") \\\n",
    "    .option(\"password\",password ) \\\n",
    "    .option(\"driver\", \"oracle.jdbc.driver.OracleDriver\") \\\n",
    "    .mode(\"overwrite\") \\\n",
    "    .save()"
   ]
  },
  {
   "cell_type": "code",
   "execution_count": 27,
   "metadata": {},
   "outputs": [],
   "source": [
    "pasta =os.getcwd()\n",
    "arquivos_csv = glob.glob(pathname=os.path.join(pasta, '*.csv'))\n",
    "\n",
    "#for arquivo in arquivos_csv:\n",
    "#    print(arquivo)\n",
    "df = spark.read.option('anime.csv', \",\").\\\n",
    "                    option(\"header\", True).\\\n",
    "                    csv('anime.csv')\n",
    "                    \n",
    "if 'MAL_ID' in df.columns:\n",
    "    df = df.drop('MAL_ID')\n",
    "                    \n"
   ]
  },
  {
   "cell_type": "code",
   "execution_count": 21,
   "metadata": {},
   "outputs": [
    {
     "name": "stdout",
     "output_type": "stream",
     "text": [
      "+------+--------------------+-----+--------------------+--------------------+------------------------------+-----+--------+--------------------+-----------+--------------------+--------------------+----------------+--------+---------------+--------------------+------+----------+-------+---------+--------+---------+-------+-------+-------------+--------+--------+--------+-------+-------+-------+-------+-------+-------+-------+\n",
      "|MAL_ID|                Name|Score|              Genres|        English name|                 Japanese name| Type|Episodes|               Aired|  Premiered|           Producers|           Licensors|         Studios|  Source|       Duration|              Rating|Ranked|Popularity|Members|Favorites|Watching|Completed|On-Hold|Dropped|Plan to Watch|Score-10| Score-9| Score-8|Score-7|Score-6|Score-5|Score-4|Score-3|Score-2|Score-1|\n",
      "+------+--------------------+-----+--------------------+--------------------+------------------------------+-----+--------+--------------------+-----------+--------------------+--------------------+----------------+--------+---------------+--------------------+------+----------+-------+---------+--------+---------+-------+-------+-------------+--------+--------+--------+-------+-------+-------+-------+-------+-------+-------+\n",
      "|     1|        Cowboy Bebop| 8.78|Action, Adventure...|        Cowboy Bebop|            カウボーイビバップ|   TV|      26|Apr 3, 1998 to Ap...|Spring 1998|       Bandai Visual|Funimation, Banda...|         Sunrise|Original|24 min. per ep.|R - 17+ (violence...|  28.0|        39|1251960|    61971|  105808|   718161|  71513|  26678|       329800|229170.0|182126.0|131625.0|62330.0|20688.0| 8904.0| 3184.0| 1357.0|  741.0| 1580.0|\n",
      "|     5|Cowboy Bebop: Ten...| 8.39|Action, Drama, My...|Cowboy Bebop:The ...|   カウボーイビバップ 天国の扉|Movie|       1|         Sep 1, 2001|    Unknown|Sunrise, Bandai V...|Sony Pictures Ent...|           Bones|Original|  1 hr. 55 min.|R - 17+ (violence...| 159.0|       518| 273145|     1174|    4143|   208333|   1935|    770|        57964| 30043.0| 49201.0| 49505.0|22632.0| 5805.0| 1877.0|  577.0|  221.0|  109.0|  379.0|\n",
      "|     6|              Trigun| 8.24|Action, Sci-Fi, A...|              Trigun|                    トライガン|   TV|      26|Apr 1, 1998 to Se...|Spring 1998|Victor Entertainment|Funimation, Geneo...|        Madhouse|   Manga|24 min. per ep.|PG-13 - Teens 13 ...| 266.0|       201| 558913|    12944|   29113|   343492|  25465|  13925|       146918| 50229.0| 75651.0| 86142.0|49432.0|15376.0| 5838.0| 1965.0|  664.0|  316.0|  533.0|\n",
      "|     7|  Witch Hunter Robin| 7.27|Action, Mystery, ...|  Witch Hunter Robin|          Witch Hunter ROBI...|   TV|      26|Jul 2, 2002 to De...|Summer 2002|TV Tokyo, Bandai ...|Funimation, Banda...|         Sunrise|Original|25 min. per ep.|PG-13 - Teens 13 ...|2481.0|      1467|  94683|      587|    4300|    46165|   5121|   5378|        33719|  2182.0|  4806.0| 10128.0|11618.0| 5709.0| 2920.0| 1083.0|  353.0|  164.0|  131.0|\n",
      "|     8|      Bouken Ou Beet| 6.98|Adventure, Fantas...|Beet the Vandel B...|                  冒険王ビィト|   TV|      52|Sep 30, 2004 to S...|  Fall 2004|    TV Tokyo, Dentsu|             Unknown|  Toei Animation|   Manga|23 min. per ep.|       PG - Children|3710.0|      4369|  13224|       18|     642|     7314|    766|   1108|         3394|   312.0|   529.0|  1242.0| 1713.0| 1068.0|  634.0|  265.0|   83.0|   50.0|   27.0|\n",
      "|    15|        Eyeshield 21| 7.95|Action, Sports, C...|             Unknown|                アイシールド21|   TV|     145|Apr 6, 2005 to Ma...|Spring 2005|TV Tokyo, Nihon A...|VIZ Media, Sentai...|          Gallop|   Manga|23 min. per ep.|PG-13 - Teens 13 ...| 604.0|      1003| 148259|     2066|   13907|    78349|  14228|  11573|        30202|  9226.0| 14904.0| 22811.0|16734.0| 6206.0| 2621.0|  795.0|  336.0|  140.0|  151.0|\n",
      "|    16|Hachimitsu to Clover| 8.06|Comedy, Drama, Jo...|    Honey and Clover|          ハチミツとクローバー|   TV|      24|Apr 15, 2005 to S...|Spring 2005|Genco, Fuji TV, S...|VIZ Media, Discot...|       J.C.Staff|   Manga|23 min. per ep.|PG-13 - Teens 13 ...| 468.0|       687| 214499|     4101|   11909|    81145|  11901|  11026|        98518| 11829.0| 16309.0| 20008.0|13062.0| 5574.0| 3148.0| 1339.0|  484.0|  278.0|  321.0|\n",
      "|    17|Hungry Heart: Wil...| 7.59|Slice of Life, Co...|             Unknown|  ハングリーハート Wild Str...|   TV|      52|Sep 11, 2002 to S...|  Fall 2002|             Unknown|             Unknown|Nippon Animation|   Manga|23 min. per ep.|PG-13 - Teens 13 ...|1317.0|      3612|  20470|      231|     817|    13778|    828|   1168|         3879|  1123.0|  1777.0|  3102.0| 3075.0| 1286.0|  602.0|  218.0|   88.0|   31.0|   32.0|\n",
      "|    18|Initial D Fourth ...| 8.15|Action, Cars, Spo...|             Unknown|頭文字〈イニシャル〉D FOURT...|   TV|      24|Apr 17, 2004 to F...|Spring 2004|OB Planning, Stud...|          Funimation|        A.C.G.T.|   Manga|27 min. per ep.|PG-13 - Teens 13 ...| 360.0|      1233| 117929|      979|    6082|    90967|   3053|   1356|        16471| 10948.0| 15820.0| 22379.0|12912.0| 3874.0| 1236.0|  369.0|   97.0|   48.0|  259.0|\n",
      "|    19|             Monster| 8.76|Drama, Horror, My...|             Monster|                    モンスター|   TV|      74|Apr 7, 2004 to Se...|Spring 2004|VAP, Shogakukan-S...|           VIZ Media|        Madhouse|   Manga|24 min. per ep.|    R+ - Mild Nudity|  30.0|       169| 614100|    29436|   64648|   214491|  47488|  23008|       264465| 77350.0| 60652.0| 43459.0|22045.0| 8861.0| 4381.0| 2086.0|  882.0|  593.0| 1177.0|\n",
      "+------+--------------------+-----+--------------------+--------------------+------------------------------+-----+--------+--------------------+-----------+--------------------+--------------------+----------------+--------+---------------+--------------------+------+----------+-------+---------+--------+---------+-------+-------+-------------+--------+--------+--------+-------+-------+-------+-------+-------+-------+-------+\n",
      "only showing top 10 rows\n",
      "\n"
     ]
    }
   ],
   "source": [
    "df.show(10)"
   ]
  },
  {
   "cell_type": "code",
   "execution_count": 9,
   "metadata": {},
   "outputs": [],
   "source": [
    "# CONTROLE DE SENHA, COLUNAS NÃO DESEJADAS E EXPORTAÇÃO\n",
    "senha_sql   = str(input('INFORME A SENHA DO BANCO DE DADOS: '))\n",
    "\n",
    "df = df.drop(\"Japanese name\",\"Producers\",\"Score-10\", \"Score-9\",\"Score-8\",\"Score-7\",\n",
    "                                        \"Score-6\",\"Score-5\",\"Score-4\",\"Score-3\",\"Score-2\",\"Score-1\")\n",
    "\n",
    "exportar_para_oracle(dataframe=df, nome_tabela='ANIMES_LISTA',password=senha_sql)"
   ]
  },
  {
   "cell_type": "code",
   "execution_count": 10,
   "metadata": {},
   "outputs": [
    {
     "name": "stdout",
     "output_type": "stream",
     "text": [
      "+------+--------------------+-----+--------------------+--------------------+-----+--------+--------------------+-----------+--------------------+----------------+-----------+---------------+--------------------+------+----------+-------+---------+--------+---------+-------+-------+-------------+\n",
      "|MAL_ID|                Name|Score|              Genres|        English name| Type|Episodes|               Aired|  Premiered|           Licensors|         Studios|     Source|       Duration|              Rating|Ranked|Popularity|Members|Favorites|Watching|Completed|On-Hold|Dropped|Plan to Watch|\n",
      "+------+--------------------+-----+--------------------+--------------------+-----+--------+--------------------+-----------+--------------------+----------------+-----------+---------------+--------------------+------+----------+-------+---------+--------+---------+-------+-------+-------------+\n",
      "|     1|        Cowboy Bebop| 8.78|Action, Adventure...|        Cowboy Bebop|   TV|      26|Apr 3, 1998 to Ap...|Spring 1998|Funimation, Banda...|         Sunrise|   Original|24 min. per ep.|R - 17+ (violence...|  28.0|        39|1251960|    61971|  105808|   718161|  71513|  26678|       329800|\n",
      "|     5|Cowboy Bebop: Ten...| 8.39|Action, Drama, My...|Cowboy Bebop:The ...|Movie|       1|         Sep 1, 2001|    Unknown|Sony Pictures Ent...|           Bones|   Original|  1 hr. 55 min.|R - 17+ (violence...| 159.0|       518| 273145|     1174|    4143|   208333|   1935|    770|        57964|\n",
      "|     6|              Trigun| 8.24|Action, Sci-Fi, A...|              Trigun|   TV|      26|Apr 1, 1998 to Se...|Spring 1998|Funimation, Geneo...|        Madhouse|      Manga|24 min. per ep.|PG-13 - Teens 13 ...| 266.0|       201| 558913|    12944|   29113|   343492|  25465|  13925|       146918|\n",
      "|     7|  Witch Hunter Robin| 7.27|Action, Mystery, ...|  Witch Hunter Robin|   TV|      26|Jul 2, 2002 to De...|Summer 2002|Funimation, Banda...|         Sunrise|   Original|25 min. per ep.|PG-13 - Teens 13 ...|2481.0|      1467|  94683|      587|    4300|    46165|   5121|   5378|        33719|\n",
      "|     8|      Bouken Ou Beet| 6.98|Adventure, Fantas...|Beet the Vandel B...|   TV|      52|Sep 30, 2004 to S...|  Fall 2004|             Unknown|  Toei Animation|      Manga|23 min. per ep.|       PG - Children|3710.0|      4369|  13224|       18|     642|     7314|    766|   1108|         3394|\n",
      "|    15|        Eyeshield 21| 7.95|Action, Sports, C...|             Unknown|   TV|     145|Apr 6, 2005 to Ma...|Spring 2005|VIZ Media, Sentai...|          Gallop|      Manga|23 min. per ep.|PG-13 - Teens 13 ...| 604.0|      1003| 148259|     2066|   13907|    78349|  14228|  11573|        30202|\n",
      "|    16|Hachimitsu to Clover| 8.06|Comedy, Drama, Jo...|    Honey and Clover|   TV|      24|Apr 15, 2005 to S...|Spring 2005|VIZ Media, Discot...|       J.C.Staff|      Manga|23 min. per ep.|PG-13 - Teens 13 ...| 468.0|       687| 214499|     4101|   11909|    81145|  11901|  11026|        98518|\n",
      "|    17|Hungry Heart: Wil...| 7.59|Slice of Life, Co...|             Unknown|   TV|      52|Sep 11, 2002 to S...|  Fall 2002|             Unknown|Nippon Animation|      Manga|23 min. per ep.|PG-13 - Teens 13 ...|1317.0|      3612|  20470|      231|     817|    13778|    828|   1168|         3879|\n",
      "|    18|Initial D Fourth ...| 8.15|Action, Cars, Spo...|             Unknown|   TV|      24|Apr 17, 2004 to F...|Spring 2004|          Funimation|        A.C.G.T.|      Manga|27 min. per ep.|PG-13 - Teens 13 ...| 360.0|      1233| 117929|      979|    6082|    90967|   3053|   1356|        16471|\n",
      "|    19|             Monster| 8.76|Drama, Horror, My...|             Monster|   TV|      74|Apr 7, 2004 to Se...|Spring 2004|           VIZ Media|        Madhouse|      Manga|24 min. per ep.|    R+ - Mild Nudity|  30.0|       169| 614100|    29436|   64648|   214491|  47488|  23008|       264465|\n",
      "|    20|              Naruto| 7.91|Action, Adventure...|              Naruto|   TV|     220|Oct 3, 2002 to Fe...|  Fall 2002|           VIZ Media|  Studio Pierrot|      Manga|23 min. per ep.|PG-13 - Teens 13 ...| 660.0|         8|1830540|    65586|  137167|  1462223|  61734|  99806|        69610|\n",
      "|    21|           One Piece| 8.52|Action, Adventure...|           One Piece|   TV| Unknown|   Oct 20, 1999 to ?|  Fall 1999|Funimation, 4Kids...|  Toei Animation|      Manga|        24 min.|PG-13 - Teens 13 ...|  95.0|        31|1352724|   126645|  887333|       33| 187919| 136245|       141194|\n",
      "|    22| Tennis no Ouji-sama|  7.9|Action, Comedy, S...|The Prince of Tennis|   TV|     178|Oct 10, 2001 to M...|  Fall 2001|           VIZ Media|      Trans Arts|      Manga|22 min. per ep.|PG-13 - Teens 13 ...| 675.0|      1039| 141832|     3124|   11235|    76881|  12905|  12516|        28295|\n",
      "|    23|    Ring ni Kakero 1| 6.38|Action, Shounen, ...|             Unknown|   TV|      12|Oct 6, 2004 to De...|  Fall 2004|             Unknown|  Toei Animation|      Manga|25 min. per ep.|       PG - Children|6493.0|      7333|   3648|       16|     170|     1333|    145|    296|         1704|\n",
      "|    24|       School Rumble| 7.94|Comedy, Romance, ...|       School Rumble|   TV|      26|Oct 5, 2004 to Ma...|  Fall 2004|          Funimation|    Studio Comet|      Manga|23 min. per ep.|PG-13 - Teens 13 ...| 625.0|       514| 275464|     5137|   12277|   157789|  12856|  13491|        79051|\n",
      "|    25|           Sunabouzu| 7.42|Action, Adventure...|         Desert Punk|   TV|      24|Oct 6, 2004 to Ma...|  Fall 2004|          Funimation|           Gonzo|      Manga|24 min. per ep.|R - 17+ (violence...|1844.0|      1284| 111734|      790|    6273|    53819|   6255|   7951|        37436|\n",
      "|    26|          Texhnolyze| 7.76|Action, Sci-Fi, P...|          Texhnolyze|   TV|      22|Apr 17, 2003 to S...|Spring 2003|Funimation, Geneo...|        Madhouse|   Original|23 min. per ep.|    R+ - Mild Nudity| 896.0|       823| 182599|     3671|   11335|    47532|   9815|   8112|       105805|\n",
      "|    27|       Trinity Blood| 7.32|Action, Supernatu...|       Trinity Blood|   TV|      24|Apr 29, 2005 to O...|Spring 2005|          Funimation|           Gonzo|Light novel|24 min. per ep.|R - 17+ (violence...|2240.0|       936| 158343|     1479|    7794|    87958|   8940|   9349|        44302|\n",
      "|    28|    Yakitate!! Japan| 7.95|     Comedy, Shounen|    Yakitate!! Japan|   TV|      69|Oct 12, 2004 to M...|  Fall 2004|Nozomi Entertainment|         Sunrise|      Manga|24 min. per ep.|PG-13 - Teens 13 ...| 609.0|      1666|  80183|      887|    5007|    39992|   5764|   4633|        24787|\n",
      "|    29|              Zipang| 7.51|Action, Military,...|             Unknown|   TV|      26|Oct 8, 2004 to Ap...|  Fall 2004|Geneon Entertainm...|     Studio Deen|      Manga|24 min. per ep.|PG-13 - Teens 13 ...|1565.0|      3985|  16652|      152|     857|     6807|    721|    599|         7668|\n",
      "+------+--------------------+-----+--------------------+--------------------+-----+--------+--------------------+-----------+--------------------+----------------+-----------+---------------+--------------------+------+----------+-------+---------+--------+---------+-------+-------+-------------+\n",
      "only showing top 20 rows\n",
      "\n"
     ]
    }
   ],
   "source": []
  }
 ],
 "metadata": {
  "kernelspec": {
   "display_name": "Python 3",
   "language": "python",
   "name": "python3"
  },
  "language_info": {
   "codemirror_mode": {
    "name": "ipython",
    "version": 3
   },
   "file_extension": ".py",
   "mimetype": "text/x-python",
   "name": "python",
   "nbconvert_exporter": "python",
   "pygments_lexer": "ipython3",
   "version": "3.11.4"
  },
  "orig_nbformat": 4
 },
 "nbformat": 4,
 "nbformat_minor": 2
}
